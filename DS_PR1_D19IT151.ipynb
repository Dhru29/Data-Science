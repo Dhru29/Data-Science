{
  "nbformat": 4,
  "nbformat_minor": 0,
  "metadata": {
    "colab": {
      "name": "DS_PR1_D19IT151.ipynb",
      "provenance": []
    },
    "kernelspec": {
      "name": "python3",
      "display_name": "Python 3"
    },
    "language_info": {
      "name": "python"
    }
  },
  "cells": [
    {
      "cell_type": "code",
      "metadata": {
        "id": "hHwsdI9BBzCk"
      },
      "source": [
        "import requests\n",
        "from bs4 import BeautifulSoup\n",
        "import pandas as pd"
      ],
      "execution_count": 2,
      "outputs": []
    },
    {
      "cell_type": "code",
      "metadata": {
        "id": "lZPcqs6MGvkU"
      },
      "source": [
        "name=[]\n",
        "ratings=[]\n"
      ],
      "execution_count": 3,
      "outputs": []
    },
    {
      "cell_type": "code",
      "metadata": {
        "id": "aU3BI8SdG1Lu"
      },
      "source": [
        "url=\"https://www.imdb.com/search/title/?title_type=tv_series&num_votes=100000,&sort=user_rating,desc\"\n",
        "page = requests.get(url)\n",
        "soup = BeautifulSoup(page.content, \"html.parser\")"
      ],
      "execution_count": 4,
      "outputs": []
    },
    {
      "cell_type": "code",
      "metadata": {
        "id": "s9gcVI-WG4cq"
      },
      "source": [
        "for i in soup.findAll('div',attrs={\"class\":\"lister-item mode-advanced\"}):\n",
        "  a=i.find(\"h3\",attrs={\"class\":\"lister-item-header\"})\n",
        "  n=a.find(\"a\",href=True)\n",
        "  r=i.find(\"div\",attrs={\"class\":\"inline-block ratings-imdb-rating\"})\n",
        "  name.append(n.text)\n",
        "  ratings.append(r.text.strip(\"\\n\"))\n",
        "  "
      ],
      "execution_count": 5,
      "outputs": []
    },
    {
      "cell_type": "code",
      "metadata": {
        "id": "nJnDJ9zOG743"
      },
      "source": [
        "df = pd.DataFrame({'Title':name,\"Ratings\":ratings}) \n",
        "df.to_csv('DS_PR1_D19IT151.csv', index=False, encoding='utf-8')"
      ],
      "execution_count": 6,
      "outputs": []
    }
  ]
}